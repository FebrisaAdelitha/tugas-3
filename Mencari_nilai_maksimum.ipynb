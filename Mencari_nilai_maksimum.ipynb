{
  "nbformat": 4,
  "nbformat_minor": 0,
  "metadata": {
    "colab": {
      "provenance": [],
      "authorship_tag": "ABX9TyPj5KbCeMvZdyCmLv6EZuKZ",
      "include_colab_link": true
    },
    "kernelspec": {
      "name": "python3",
      "display_name": "Python 3"
    },
    "language_info": {
      "name": "python"
    }
  },
  "cells": [
    {
      "cell_type": "markdown",
      "metadata": {
        "id": "view-in-github",
        "colab_type": "text"
      },
      "source": [
        "<a href=\"https://colab.research.google.com/github/FebrisaAdelitha/tugas-3/blob/main/Mencari_nilai_maksimum.ipynb\" target=\"_parent\"><img src=\"https://colab.research.google.com/assets/colab-badge.svg\" alt=\"Open In Colab\"/></a>"
      ]
    },
    {
      "cell_type": "code",
      "execution_count": 2,
      "metadata": {
        "id": "fZyvBjfNVruU",
        "colab": {
          "base_uri": "https://localhost:8080/"
        },
        "outputId": "3488f0af-de70-41e9-bcb0-ecf46dc9baec"
      },
      "outputs": [
        {
          "output_type": "stream",
          "name": "stdout",
          "text": [
            "7\n"
          ]
        }
      ],
      "source": [
        "def max_value(arr):\n",
        "    max_val = arr[0]\n",
        "    for num in arr[1:]:\n",
        "        if num > max_val:\n",
        "           max_val = num\n",
        "    return max_val\n",
        "print(max_value([3,4,5,6,7]))"
      ]
    }
  ]
}